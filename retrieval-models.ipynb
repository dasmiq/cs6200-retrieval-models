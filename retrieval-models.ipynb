{
  "nbformat": 4,
  "nbformat_minor": 0,
  "metadata": {
    "colab": {
      "provenance": [],
      "include_colab_link": true
    },
    "kernelspec": {
      "name": "python3",
      "display_name": "Python 3"
    }
  },
  "cells": [
    {
      "cell_type": "markdown",
      "metadata": {
        "id": "view-in-github",
        "colab_type": "text"
      },
      "source": [
        "<a href=\"https://colab.research.google.com/github/dasmiq/cs6200-retrieval-models/blob/main/retrieval-models.ipynb\" target=\"_parent\"><img src=\"https://colab.research.google.com/assets/colab-badge.svg\" alt=\"Open In Colab\"/></a>"
      ]
    },
    {
      "cell_type": "markdown",
      "metadata": {
        "id": "vUpmSFflwzR1"
      },
      "source": [
        "# Retrieval Models and Evaluation\n",
        "\n"
      ]
    },
    {
      "cell_type": "markdown",
      "metadata": {
        "id": "-2PzgU4YxIl3"
      },
      "source": [
        "In this notebook, you will evaluate results ranking on a test collection. First, you'll compute the mean average precision of a baseline BM25 model. Then you'll implement a query-likelihood retrieval model based on the same inverted index.\n",
        "\n",
        "This notebook uses the [Pyserini](http://pyserini.io/) library, a Python interface to [Anserini](http://anserini.io) and thus to [Lucene](https://lucene.apache.org/), a widely-used open-source search engine. This library is written and maintained by Jimmy Lin and his colleagues at the University of Waterloo.\n"
      ]
    },
    {
      "cell_type": "markdown",
      "metadata": {
        "id": "f2vNd7bpJlDZ"
      },
      "source": [
        "We start by installing the python interface. Since it calls the underlying Lucene search engine, we make sure we point to an appropriate Java installation. If you don't have Java 11, this would need to be changed."
      ]
    },
    {
      "cell_type": "code",
      "metadata": {
        "id": "E_lt0-pXJia0",
        "colab": {
          "base_uri": "https://localhost:8080/"
        },
        "outputId": "ed75d4f5-0e1b-41b5-8157-1bc1b71c5b4d"
      },
      "source": [
        "!pip install pyserini\n",
        "# You can change this to gpu if you have one.\n",
        "!pip install faiss-cpu\n",
        "\n",
        "# Point python at java if it can't find it.\n",
        "#import os\n",
        "#os.environ[\"JAVA_HOME\"] = \"/usr/lib/jvm/java-11-openjdk-amd64\""
      ],
      "execution_count": 1,
      "outputs": [
        {
          "output_type": "stream",
          "name": "stdout",
          "text": [
            "Collecting pyserini\n",
            "  Downloading pyserini-0.22.0-py3-none-any.whl (140.5 MB)\n",
            "\u001b[2K     \u001b[90m━━━━━━━━━━━━━━━━━━━━━━━━━━━━━━━━━━━━━━━━\u001b[0m \u001b[32m140.5/140.5 MB\u001b[0m \u001b[31m7.2 MB/s\u001b[0m eta \u001b[36m0:00:00\u001b[0m\n",
            "\u001b[?25hRequirement already satisfied: Cython>=0.29.21 in /usr/local/lib/python3.10/dist-packages (from pyserini) (3.0.3)\n",
            "Requirement already satisfied: numpy>=1.18.1 in /usr/local/lib/python3.10/dist-packages (from pyserini) (1.23.5)\n",
            "Requirement already satisfied: pandas>=1.4.0 in /usr/local/lib/python3.10/dist-packages (from pyserini) (1.5.3)\n",
            "Collecting pyjnius>=1.4.0 (from pyserini)\n",
            "  Downloading pyjnius-1.6.0-cp310-cp310-manylinux_2_17_x86_64.manylinux2014_x86_64.whl (1.5 MB)\n",
            "\u001b[2K     \u001b[90m━━━━━━━━━━━━━━━━━━━━━━━━━━━━━━━━━━━━━━━━\u001b[0m \u001b[32m1.5/1.5 MB\u001b[0m \u001b[31m58.5 MB/s\u001b[0m eta \u001b[36m0:00:00\u001b[0m\n",
            "\u001b[?25hRequirement already satisfied: scikit-learn>=0.22.1 in /usr/local/lib/python3.10/dist-packages (from pyserini) (1.2.2)\n",
            "Requirement already satisfied: scipy>=1.4.1 in /usr/local/lib/python3.10/dist-packages (from pyserini) (1.11.3)\n",
            "Requirement already satisfied: tqdm in /usr/local/lib/python3.10/dist-packages (from pyserini) (4.66.1)\n",
            "Collecting transformers>=4.6.0 (from pyserini)\n",
            "  Downloading transformers-4.34.0-py3-none-any.whl (7.7 MB)\n",
            "\u001b[2K     \u001b[90m━━━━━━━━━━━━━━━━━━━━━━━━━━━━━━━━━━━━━━━━\u001b[0m \u001b[32m7.7/7.7 MB\u001b[0m \u001b[31m59.9 MB/s\u001b[0m eta \u001b[36m0:00:00\u001b[0m\n",
            "\u001b[?25hCollecting sentencepiece>=0.1.95 (from pyserini)\n",
            "  Downloading sentencepiece-0.1.99-cp310-cp310-manylinux_2_17_x86_64.manylinux2014_x86_64.whl (1.3 MB)\n",
            "\u001b[2K     \u001b[90m━━━━━━━━━━━━━━━━━━━━━━━━━━━━━━━━━━━━━━━━\u001b[0m \u001b[32m1.3/1.3 MB\u001b[0m \u001b[31m40.8 MB/s\u001b[0m eta \u001b[36m0:00:00\u001b[0m\n",
            "\u001b[?25hCollecting nmslib>=2.1.1 (from pyserini)\n",
            "  Downloading nmslib-2.1.1.tar.gz (188 kB)\n",
            "\u001b[2K     \u001b[90m━━━━━━━━━━━━━━━━━━━━━━━━━━━━━━━━━━━━━━━━\u001b[0m \u001b[32m188.7/188.7 kB\u001b[0m \u001b[31m18.9 MB/s\u001b[0m eta \u001b[36m0:00:00\u001b[0m\n",
            "\u001b[?25h  Preparing metadata (setup.py) ... \u001b[?25l\u001b[?25hdone\n",
            "Collecting onnxruntime>=1.8.1 (from pyserini)\n",
            "  Downloading onnxruntime-1.16.1-cp310-cp310-manylinux_2_17_x86_64.manylinux2014_x86_64.whl (6.2 MB)\n",
            "\u001b[2K     \u001b[90m━━━━━━━━━━━━━━━━━━━━━━━━━━━━━━━━━━━━━━━━\u001b[0m \u001b[32m6.2/6.2 MB\u001b[0m \u001b[31m104.3 MB/s\u001b[0m eta \u001b[36m0:00:00\u001b[0m\n",
            "\u001b[?25hRequirement already satisfied: lightgbm>=3.3.2 in /usr/local/lib/python3.10/dist-packages (from pyserini) (4.0.0)\n",
            "Requirement already satisfied: spacy>=3.2.1 in /usr/local/lib/python3.10/dist-packages (from pyserini) (3.6.1)\n",
            "Requirement already satisfied: pyyaml in /usr/local/lib/python3.10/dist-packages (from pyserini) (6.0.1)\n",
            "Collecting pybind11<2.6.2 (from nmslib>=2.1.1->pyserini)\n",
            "  Using cached pybind11-2.6.1-py2.py3-none-any.whl (188 kB)\n",
            "Requirement already satisfied: psutil in /usr/local/lib/python3.10/dist-packages (from nmslib>=2.1.1->pyserini) (5.9.5)\n",
            "Collecting coloredlogs (from onnxruntime>=1.8.1->pyserini)\n",
            "  Downloading coloredlogs-15.0.1-py2.py3-none-any.whl (46 kB)\n",
            "\u001b[2K     \u001b[90m━━━━━━━━━━━━━━━━━━━━━━━━━━━━━━━━━━━━━━━━\u001b[0m \u001b[32m46.0/46.0 kB\u001b[0m \u001b[31m5.3 MB/s\u001b[0m eta \u001b[36m0:00:00\u001b[0m\n",
            "\u001b[?25hRequirement already satisfied: flatbuffers in /usr/local/lib/python3.10/dist-packages (from onnxruntime>=1.8.1->pyserini) (23.5.26)\n",
            "Requirement already satisfied: packaging in /usr/local/lib/python3.10/dist-packages (from onnxruntime>=1.8.1->pyserini) (23.2)\n",
            "Requirement already satisfied: protobuf in /usr/local/lib/python3.10/dist-packages (from onnxruntime>=1.8.1->pyserini) (3.20.3)\n",
            "Requirement already satisfied: sympy in /usr/local/lib/python3.10/dist-packages (from onnxruntime>=1.8.1->pyserini) (1.12)\n",
            "Requirement already satisfied: python-dateutil>=2.8.1 in /usr/local/lib/python3.10/dist-packages (from pandas>=1.4.0->pyserini) (2.8.2)\n",
            "Requirement already satisfied: pytz>=2020.1 in /usr/local/lib/python3.10/dist-packages (from pandas>=1.4.0->pyserini) (2023.3.post1)\n",
            "Requirement already satisfied: joblib>=1.1.1 in /usr/local/lib/python3.10/dist-packages (from scikit-learn>=0.22.1->pyserini) (1.3.2)\n",
            "Requirement already satisfied: threadpoolctl>=2.0.0 in /usr/local/lib/python3.10/dist-packages (from scikit-learn>=0.22.1->pyserini) (3.2.0)\n",
            "Requirement already satisfied: spacy-legacy<3.1.0,>=3.0.11 in /usr/local/lib/python3.10/dist-packages (from spacy>=3.2.1->pyserini) (3.0.12)\n",
            "Requirement already satisfied: spacy-loggers<2.0.0,>=1.0.0 in /usr/local/lib/python3.10/dist-packages (from spacy>=3.2.1->pyserini) (1.0.5)\n",
            "Requirement already satisfied: murmurhash<1.1.0,>=0.28.0 in /usr/local/lib/python3.10/dist-packages (from spacy>=3.2.1->pyserini) (1.0.10)\n",
            "Requirement already satisfied: cymem<2.1.0,>=2.0.2 in /usr/local/lib/python3.10/dist-packages (from spacy>=3.2.1->pyserini) (2.0.8)\n",
            "Requirement already satisfied: preshed<3.1.0,>=3.0.2 in /usr/local/lib/python3.10/dist-packages (from spacy>=3.2.1->pyserini) (3.0.9)\n",
            "Requirement already satisfied: thinc<8.2.0,>=8.1.8 in /usr/local/lib/python3.10/dist-packages (from spacy>=3.2.1->pyserini) (8.1.12)\n",
            "Requirement already satisfied: wasabi<1.2.0,>=0.9.1 in /usr/local/lib/python3.10/dist-packages (from spacy>=3.2.1->pyserini) (1.1.2)\n",
            "Requirement already satisfied: srsly<3.0.0,>=2.4.3 in /usr/local/lib/python3.10/dist-packages (from spacy>=3.2.1->pyserini) (2.4.8)\n",
            "Requirement already satisfied: catalogue<2.1.0,>=2.0.6 in /usr/local/lib/python3.10/dist-packages (from spacy>=3.2.1->pyserini) (2.0.10)\n",
            "Requirement already satisfied: typer<0.10.0,>=0.3.0 in /usr/local/lib/python3.10/dist-packages (from spacy>=3.2.1->pyserini) (0.9.0)\n",
            "Requirement already satisfied: pathy>=0.10.0 in /usr/local/lib/python3.10/dist-packages (from spacy>=3.2.1->pyserini) (0.10.2)\n",
            "Requirement already satisfied: smart-open<7.0.0,>=5.2.1 in /usr/local/lib/python3.10/dist-packages (from spacy>=3.2.1->pyserini) (6.4.0)\n",
            "Requirement already satisfied: requests<3.0.0,>=2.13.0 in /usr/local/lib/python3.10/dist-packages (from spacy>=3.2.1->pyserini) (2.31.0)\n",
            "Requirement already satisfied: pydantic!=1.8,!=1.8.1,<3.0.0,>=1.7.4 in /usr/local/lib/python3.10/dist-packages (from spacy>=3.2.1->pyserini) (1.10.13)\n",
            "Requirement already satisfied: jinja2 in /usr/local/lib/python3.10/dist-packages (from spacy>=3.2.1->pyserini) (3.1.2)\n",
            "Requirement already satisfied: setuptools in /usr/local/lib/python3.10/dist-packages (from spacy>=3.2.1->pyserini) (67.7.2)\n",
            "Requirement already satisfied: langcodes<4.0.0,>=3.2.0 in /usr/local/lib/python3.10/dist-packages (from spacy>=3.2.1->pyserini) (3.3.0)\n",
            "Requirement already satisfied: filelock in /usr/local/lib/python3.10/dist-packages (from transformers>=4.6.0->pyserini) (3.12.4)\n",
            "Collecting huggingface-hub<1.0,>=0.16.4 (from transformers>=4.6.0->pyserini)\n",
            "  Downloading huggingface_hub-0.18.0-py3-none-any.whl (301 kB)\n",
            "\u001b[2K     \u001b[90m━━━━━━━━━━━━━━━━━━━━━━━━━━━━━━━━━━━━━━━━\u001b[0m \u001b[32m302.0/302.0 kB\u001b[0m \u001b[31m32.0 MB/s\u001b[0m eta \u001b[36m0:00:00\u001b[0m\n",
            "\u001b[?25hRequirement already satisfied: regex!=2019.12.17 in /usr/local/lib/python3.10/dist-packages (from transformers>=4.6.0->pyserini) (2023.6.3)\n",
            "Collecting tokenizers<0.15,>=0.14 (from transformers>=4.6.0->pyserini)\n",
            "  Downloading tokenizers-0.14.1-cp310-cp310-manylinux_2_17_x86_64.manylinux2014_x86_64.whl (3.8 MB)\n",
            "\u001b[2K     \u001b[90m━━━━━━━━━━━━━━━━━━━━━━━━━━━━━━━━━━━━━━━━\u001b[0m \u001b[32m3.8/3.8 MB\u001b[0m \u001b[31m96.9 MB/s\u001b[0m eta \u001b[36m0:00:00\u001b[0m\n",
            "\u001b[?25hCollecting safetensors>=0.3.1 (from transformers>=4.6.0->pyserini)\n",
            "  Downloading safetensors-0.4.0-cp310-cp310-manylinux_2_17_x86_64.manylinux2014_x86_64.whl (1.3 MB)\n",
            "\u001b[2K     \u001b[90m━━━━━━━━━━━━━━━━━━━━━━━━━━━━━━━━━━━━━━━━\u001b[0m \u001b[32m1.3/1.3 MB\u001b[0m \u001b[31m79.9 MB/s\u001b[0m eta \u001b[36m0:00:00\u001b[0m\n",
            "\u001b[?25hRequirement already satisfied: fsspec>=2023.5.0 in /usr/local/lib/python3.10/dist-packages (from huggingface-hub<1.0,>=0.16.4->transformers>=4.6.0->pyserini) (2023.6.0)\n",
            "Requirement already satisfied: typing-extensions>=3.7.4.3 in /usr/local/lib/python3.10/dist-packages (from huggingface-hub<1.0,>=0.16.4->transformers>=4.6.0->pyserini) (4.5.0)\n",
            "Requirement already satisfied: six>=1.5 in /usr/local/lib/python3.10/dist-packages (from python-dateutil>=2.8.1->pandas>=1.4.0->pyserini) (1.16.0)\n",
            "Requirement already satisfied: charset-normalizer<4,>=2 in /usr/local/lib/python3.10/dist-packages (from requests<3.0.0,>=2.13.0->spacy>=3.2.1->pyserini) (3.3.0)\n",
            "Requirement already satisfied: idna<4,>=2.5 in /usr/local/lib/python3.10/dist-packages (from requests<3.0.0,>=2.13.0->spacy>=3.2.1->pyserini) (3.4)\n",
            "Requirement already satisfied: urllib3<3,>=1.21.1 in /usr/local/lib/python3.10/dist-packages (from requests<3.0.0,>=2.13.0->spacy>=3.2.1->pyserini) (2.0.6)\n",
            "Requirement already satisfied: certifi>=2017.4.17 in /usr/local/lib/python3.10/dist-packages (from requests<3.0.0,>=2.13.0->spacy>=3.2.1->pyserini) (2023.7.22)\n",
            "Requirement already satisfied: blis<0.8.0,>=0.7.8 in /usr/local/lib/python3.10/dist-packages (from thinc<8.2.0,>=8.1.8->spacy>=3.2.1->pyserini) (0.7.11)\n",
            "Requirement already satisfied: confection<1.0.0,>=0.0.1 in /usr/local/lib/python3.10/dist-packages (from thinc<8.2.0,>=8.1.8->spacy>=3.2.1->pyserini) (0.1.3)\n",
            "Collecting huggingface-hub<1.0,>=0.16.4 (from transformers>=4.6.0->pyserini)\n",
            "  Downloading huggingface_hub-0.17.3-py3-none-any.whl (295 kB)\n",
            "\u001b[2K     \u001b[90m━━━━━━━━━━━━━━━━━━━━━━━━━━━━━━━━━━━━━━━━\u001b[0m \u001b[32m295.0/295.0 kB\u001b[0m \u001b[31m32.3 MB/s\u001b[0m eta \u001b[36m0:00:00\u001b[0m\n",
            "\u001b[?25hRequirement already satisfied: click<9.0.0,>=7.1.1 in /usr/local/lib/python3.10/dist-packages (from typer<0.10.0,>=0.3.0->spacy>=3.2.1->pyserini) (8.1.7)\n",
            "Collecting humanfriendly>=9.1 (from coloredlogs->onnxruntime>=1.8.1->pyserini)\n",
            "  Downloading humanfriendly-10.0-py2.py3-none-any.whl (86 kB)\n",
            "\u001b[2K     \u001b[90m━━━━━━━━━━━━━━━━━━━━━━━━━━━━━━━━━━━━━━━━\u001b[0m \u001b[32m86.8/86.8 kB\u001b[0m \u001b[31m10.0 MB/s\u001b[0m eta \u001b[36m0:00:00\u001b[0m\n",
            "\u001b[?25hRequirement already satisfied: MarkupSafe>=2.0 in /usr/local/lib/python3.10/dist-packages (from jinja2->spacy>=3.2.1->pyserini) (2.1.3)\n",
            "Requirement already satisfied: mpmath>=0.19 in /usr/local/lib/python3.10/dist-packages (from sympy->onnxruntime>=1.8.1->pyserini) (1.3.0)\n",
            "Building wheels for collected packages: nmslib\n",
            "  Building wheel for nmslib (setup.py) ... \u001b[?25l\u001b[?25hdone\n",
            "  Created wheel for nmslib: filename=nmslib-2.1.1-cp310-cp310-linux_x86_64.whl size=13578644 sha256=abb5a23b7a280590f624649a264d9a1b553e4dc7480123838dfeb111778c657c\n",
            "  Stored in directory: /root/.cache/pip/wheels/21/1a/5d/4cc754a5b1a88405cad184b76f823897a63a8d19afcd4b9314\n",
            "Successfully built nmslib\n",
            "Installing collected packages: sentencepiece, pyjnius, safetensors, pybind11, humanfriendly, nmslib, huggingface-hub, coloredlogs, tokenizers, onnxruntime, transformers, pyserini\n",
            "Successfully installed coloredlogs-15.0.1 huggingface-hub-0.17.3 humanfriendly-10.0 nmslib-2.1.1 onnxruntime-1.16.1 pybind11-2.6.1 pyjnius-1.6.0 pyserini-0.22.0 safetensors-0.4.0 sentencepiece-0.1.99 tokenizers-0.14.1 transformers-4.34.0\n",
            "Collecting faiss-cpu\n",
            "  Downloading faiss_cpu-1.7.4-cp310-cp310-manylinux_2_17_x86_64.manylinux2014_x86_64.whl (17.6 MB)\n",
            "\u001b[2K     \u001b[90m━━━━━━━━━━━━━━━━━━━━━━━━━━━━━━━━━━━━━━━━\u001b[0m \u001b[32m17.6/17.6 MB\u001b[0m \u001b[31m49.5 MB/s\u001b[0m eta \u001b[36m0:00:00\u001b[0m\n",
            "\u001b[?25hInstalling collected packages: faiss-cpu\n",
            "Successfully installed faiss-cpu-1.7.4\n"
          ]
        }
      ]
    },
    {
      "cell_type": "markdown",
      "metadata": {
        "id": "NkD0kKxW9mHP"
      },
      "source": [
        "You can use the `SimpleSearcher` to search over an index. We can initialize the searcher with a pre-built index, which Pyserini will automatically download if it hasn't already:"
      ]
    },
    {
      "cell_type": "code",
      "metadata": {
        "colab": {
          "base_uri": "https://localhost:8080/"
        },
        "id": "zVoAZvuAI_la",
        "outputId": "2e788e9c-f7d9-494e-f3bf-631428630935"
      },
      "source": [
        "from pyserini.search import SimpleSearcher\n",
        "\n",
        "searcher = SimpleSearcher.from_prebuilt_index('robust04')"
      ],
      "execution_count": 2,
      "outputs": [
        {
          "output_type": "stream",
          "name": "stdout",
          "text": [
            "Downloading index at https://rgw.cs.uwaterloo.ca/pyserini/indexes/lucene-index.robust04.20221005.252b5e.tar.gz...\n"
          ]
        },
        {
          "output_type": "stream",
          "name": "stderr",
          "text": [
            "lucene-index.robust04.20221005.252b5e.tar.gz: 1.68GB [01:35, 18.9MB/s]                            \n"
          ]
        },
        {
          "output_type": "stream",
          "name": "stdout",
          "text": [
            "SimpleSearcher class has been deprecated, please use LuceneSearcher from pyserini.search.lucene instead\n"
          ]
        }
      ]
    },
    {
      "cell_type": "markdown",
      "metadata": {
        "id": "N6xHyonHJDKy"
      },
      "source": [
        "Now we can search for a query and inspect the results:"
      ]
    },
    {
      "cell_type": "code",
      "metadata": {
        "id": "yFZlcqEX0t1f",
        "colab": {
          "base_uri": "https://localhost:8080/"
        },
        "outputId": "b75984f7-9f69-4ec0-9465-3e2c44a52c96"
      },
      "source": [
        "hits = searcher.search('black bear attacks', 1000)\n",
        "\n",
        "# Prints the first 10 hits\n",
        "for i in range(0, 10):\n",
        "    print(f'{i+1:2} {hits[i].docid:15} {hits[i].score:.5f}')"
      ],
      "execution_count": 3,
      "outputs": [
        {
          "output_type": "stream",
          "name": "stdout",
          "text": [
            " 1 LA092790-0015   7.06680\n",
            " 2 LA081689-0039   6.89020\n",
            " 3 FBIS4-16530     6.61630\n",
            " 4 LA102589-0076   6.46450\n",
            " 5 FT932-15491     6.25090\n",
            " 6 FBIS3-12276     6.24630\n",
            " 7 LA091090-0085   6.17030\n",
            " 8 FT922-13519     6.04270\n",
            " 9 LA052790-0205   5.94060\n",
            "10 LA103089-0041   5.90650\n"
          ]
        }
      ]
    },
    {
      "cell_type": "markdown",
      "source": [
        "The `hits` object also contains the raw text of the documents in the index before processing. In other words, this version of the text has not been divided into fields, tokens, etc."
      ],
      "metadata": {
        "id": "WYAH5KiVwpi5"
      }
    },
    {
      "cell_type": "code",
      "source": [
        "hits[0].raw"
      ],
      "metadata": {
        "colab": {
          "base_uri": "https://localhost:8080/",
          "height": 143
        },
        "id": "z2rhBwG_XZeP",
        "outputId": "484f9b60-83ab-444a-eb50-28419c87049f"
      },
      "execution_count": 4,
      "outputs": [
        {
          "output_type": "execute_result",
          "data": {
            "text/plain": [
              "'<DATE>\\n<P>\\nSeptember 27, 1990, Thursday, Ventura County Edition\\n</P>\\n</DATE>\\n<HEADLINE>\\n<P>\\nHUNGRY WILDLIFE STRAYING INTO SUBURBS;\\n</P>\\n<P>\\nDROUGHT: FOUR DRY YEARS HAVE PARCHED NATIVE VEGETATION, FORCING BOBCATS, BEARS,\\nMOUNTAIN LIONS, DEER AND COYOTES TO FORAGE CLOSER TO INHABITED AREAS.\\n</P>\\n</HEADLINE>\\n<TEXT>\\n<P>\\nHungry bobcats, bears and mountain lions -- unable to find food in Ventura\\nCounty\\'s drought-parched forests -- are being pushed out of their natural\\nhabitats to scavenge in rural communities, game officials said Wednesday.\\n</P>\\n<P>\\nTwo weeks ago, a black bear ripped the door off a trailer home in Rose Valley\\njust north of Ojai. And within the past month, there have been several reports\\nof mountain lions eating livestock near Los Padres National Forest. Several\\nbobcats have been reported near houses in the Ojai Valley.\\n</P>\\n<P>\\nAuthorities say that over the past two years they have received twice the\\ncomplaints -- about 20 a month -- of wild animals in populated areas. The\\ndrought is now in its fourth year in California.\\n</P>\\n<P>\\n\"We\\'ve been having more and more conflicts with animals,\" said Capt. Roger\\nReese, with the state Department of Fish and Game. \"The fact is, it\\'s very dry\\nout there, and there just isn\\'t a lot of food and water for them.\"\\n</P>\\n<P>\\nAnimal control officials say they are advising residents in rural areas to be\\naware of the problem. But so far, no one has been attacked by the wild animals,\\nalthough there have been such attacks reported elsewhere in Southern\\nCalifornia, authorities said.\\n</P>\\n<P>\\nCoyotes have been running amok, officials said. Virtually all parts of the\\ncounty except beach areas probably have been visited at one time or another by\\ncoyotes, said Kathy Jenks, director of the Ventura County Department of Animal\\nRegulation.\\n</P>\\n<P>\\nIn Ventura, coyotes are often seen in Grant Park above City Hall, and in Arroyo\\nVerde Park in the Ondulando district on the east side, Jenks said.\\n</P>\\n<P>\\nElsewhere, coyotes have been seen on streets in Thousand Oaks, Moorpark and\\nSimi Valley. The rural, foothill developments are especially vulnerable, she\\nsaid.\\n</P>\\n<P>\\nJenks said she advises residents to keep small pets inside, especially at\\nnight.\\n</P>\\n<P>\\nThere have even been a few cases in which brazen coyotes have attacked family\\nanimals in back yards, and a large number of house cats are disappearing,\\nofficials said.\\n</P>\\n<P>\\n\"The common house cat is like a fancy feast for a coyote,\" she said. \"They\\'re\\nhungry, they\\'re thirsty and they\\'re coming down out of the hills.\"\\n</P>\\n<P>\\nThere have been a few reports of deer grazing in people\\'s yards, Reese said.\\n</P>\\n<P>\\nTraditionally, September is the worst month for wildlife, authorities said.\\n</P>\\n<P>\\n\"It is usually the driest month,\" Reese said. \"And a lot of animals that have\\nbeen raised in the spring leave their parents and go in search of food.\"\\n</P>\\n<P>\\nMore animals are expected to leave their natural habitats if the drought\\ncontinues, officials said.\\n</P>\\n<P>\\n\"I tell people who call that if we didn\\'t have the big cats and the coyotes, we\\nwould be overrun by rodents,\" Jenks said. \"I would much rather hear a coyote in\\nthe distance than have roof rats.\"\\n</P>\\n<P>\\nDon DeBusschere, who lives on a 45-acre walnut orchard in Happy Valley near\\nOjai, said his family has grown accustomed to wild animals. DeBusschere said he\\nhas seen scores of coyotes, several deer and a black bear.\\n</P>\\n<P>\\nRecently, he said, two bobcats have moved into the trees on the edge of his\\nproperty.\\n</P>\\n<P>\\n\"They\\'re not out to get humans,\" DeBusschere said. \"They\\'re just trying to make\\na living off the land.\"\\n</P>\\n</TEXT>'"
            ],
            "application/vnd.google.colaboratory.intrinsic+json": {
              "type": "string"
            }
          },
          "metadata": {},
          "execution_count": 4
        }
      ]
    },
    {
      "cell_type": "markdown",
      "metadata": {
        "id": "emoSTga_7fOB"
      },
      "source": [
        "The `IndexReaderUtils` class provides various methods to read the index directly. For example, we can fetch a raw document from the index given its `docid`:"
      ]
    },
    {
      "cell_type": "code",
      "metadata": {
        "id": "N5ApT1YG71mz",
        "colab": {
          "base_uri": "https://localhost:8080/",
          "height": 599
        },
        "outputId": "9e7a2d17-fdee-4504-804f-07afa9ad2429"
      },
      "source": [
        "from pyserini.index import IndexReader\n",
        "from IPython.core.display import display, HTML\n",
        "\n",
        "reader = IndexReader.from_prebuilt_index('robust04')\n",
        "\n",
        "doc = reader.doc('LA092790-0015').raw()\n",
        "display(HTML('<div style=\"font-family: Times New Roman; padding-bottom:10px\">' + doc + '</div>'))"
      ],
      "execution_count": 5,
      "outputs": [
        {
          "output_type": "display_data",
          "data": {
            "text/plain": [
              "<IPython.core.display.HTML object>"
            ],
            "text/html": [
              "<div style=\"font-family: Times New Roman; padding-bottom:10px\"><DATE>\n",
              "<P>\n",
              "September 27, 1990, Thursday, Ventura County Edition\n",
              "</P>\n",
              "</DATE>\n",
              "<HEADLINE>\n",
              "<P>\n",
              "HUNGRY WILDLIFE STRAYING INTO SUBURBS;\n",
              "</P>\n",
              "<P>\n",
              "DROUGHT: FOUR DRY YEARS HAVE PARCHED NATIVE VEGETATION, FORCING BOBCATS, BEARS,\n",
              "MOUNTAIN LIONS, DEER AND COYOTES TO FORAGE CLOSER TO INHABITED AREAS.\n",
              "</P>\n",
              "</HEADLINE>\n",
              "<TEXT>\n",
              "<P>\n",
              "Hungry bobcats, bears and mountain lions -- unable to find food in Ventura\n",
              "County's drought-parched forests -- are being pushed out of their natural\n",
              "habitats to scavenge in rural communities, game officials said Wednesday.\n",
              "</P>\n",
              "<P>\n",
              "Two weeks ago, a black bear ripped the door off a trailer home in Rose Valley\n",
              "just north of Ojai. And within the past month, there have been several reports\n",
              "of mountain lions eating livestock near Los Padres National Forest. Several\n",
              "bobcats have been reported near houses in the Ojai Valley.\n",
              "</P>\n",
              "<P>\n",
              "Authorities say that over the past two years they have received twice the\n",
              "complaints -- about 20 a month -- of wild animals in populated areas. The\n",
              "drought is now in its fourth year in California.\n",
              "</P>\n",
              "<P>\n",
              "\"We've been having more and more conflicts with animals,\" said Capt. Roger\n",
              "Reese, with the state Department of Fish and Game. \"The fact is, it's very dry\n",
              "out there, and there just isn't a lot of food and water for them.\"\n",
              "</P>\n",
              "<P>\n",
              "Animal control officials say they are advising residents in rural areas to be\n",
              "aware of the problem. But so far, no one has been attacked by the wild animals,\n",
              "although there have been such attacks reported elsewhere in Southern\n",
              "California, authorities said.\n",
              "</P>\n",
              "<P>\n",
              "Coyotes have been running amok, officials said. Virtually all parts of the\n",
              "county except beach areas probably have been visited at one time or another by\n",
              "coyotes, said Kathy Jenks, director of the Ventura County Department of Animal\n",
              "Regulation.\n",
              "</P>\n",
              "<P>\n",
              "In Ventura, coyotes are often seen in Grant Park above City Hall, and in Arroyo\n",
              "Verde Park in the Ondulando district on the east side, Jenks said.\n",
              "</P>\n",
              "<P>\n",
              "Elsewhere, coyotes have been seen on streets in Thousand Oaks, Moorpark and\n",
              "Simi Valley. The rural, foothill developments are especially vulnerable, she\n",
              "said.\n",
              "</P>\n",
              "<P>\n",
              "Jenks said she advises residents to keep small pets inside, especially at\n",
              "night.\n",
              "</P>\n",
              "<P>\n",
              "There have even been a few cases in which brazen coyotes have attacked family\n",
              "animals in back yards, and a large number of house cats are disappearing,\n",
              "officials said.\n",
              "</P>\n",
              "<P>\n",
              "\"The common house cat is like a fancy feast for a coyote,\" she said. \"They're\n",
              "hungry, they're thirsty and they're coming down out of the hills.\"\n",
              "</P>\n",
              "<P>\n",
              "There have been a few reports of deer grazing in people's yards, Reese said.\n",
              "</P>\n",
              "<P>\n",
              "Traditionally, September is the worst month for wildlife, authorities said.\n",
              "</P>\n",
              "<P>\n",
              "\"It is usually the driest month,\" Reese said. \"And a lot of animals that have\n",
              "been raised in the spring leave their parents and go in search of food.\"\n",
              "</P>\n",
              "<P>\n",
              "More animals are expected to leave their natural habitats if the drought\n",
              "continues, officials said.\n",
              "</P>\n",
              "<P>\n",
              "\"I tell people who call that if we didn't have the big cats and the coyotes, we\n",
              "would be overrun by rodents,\" Jenks said. \"I would much rather hear a coyote in\n",
              "the distance than have roof rats.\"\n",
              "</P>\n",
              "<P>\n",
              "Don DeBusschere, who lives on a 45-acre walnut orchard in Happy Valley near\n",
              "Ojai, said his family has grown accustomed to wild animals. DeBusschere said he\n",
              "has seen scores of coyotes, several deer and a black bear.\n",
              "</P>\n",
              "<P>\n",
              "Recently, he said, two bobcats have moved into the trees on the edge of his\n",
              "property.\n",
              "</P>\n",
              "<P>\n",
              "\"They're not out to get humans,\" DeBusschere said. \"They're just trying to make\n",
              "a living off the land.\"\n",
              "</P>\n",
              "</TEXT></div>"
            ]
          },
          "metadata": {}
        }
      ]
    },
    {
      "cell_type": "markdown",
      "metadata": {
        "id": "1RMfMgWt8bgm"
      },
      "source": [
        "Note that the result is exactly the same as displaying the hit contents above. Given the raw text, we can obtain its analyzed form (i.e., tokenized, stemmed, stopwords removed, etc.). Here we show the first ten tokens:"
      ]
    },
    {
      "cell_type": "code",
      "metadata": {
        "id": "ZgNGM65F6m5h",
        "colab": {
          "base_uri": "https://localhost:8080/"
        },
        "outputId": "1f9501fb-731d-4d4b-d994-f649c2e93cd3"
      },
      "source": [
        "analyzed = reader.analyze(doc)\n",
        "analyzed[0:10]"
      ],
      "execution_count": null,
      "outputs": [
        {
          "output_type": "execute_result",
          "data": {
            "text/plain": [
              "['date',\n",
              " 'p',\n",
              " 'septemb',\n",
              " '27',\n",
              " '1990',\n",
              " 'thursdai',\n",
              " 'ventura',\n",
              " 'counti',\n",
              " 'edit',\n",
              " 'p']"
            ]
          },
          "metadata": {},
          "execution_count": 79
        }
      ]
    },
    {
      "cell_type": "markdown",
      "metadata": {
        "id": "Z5OUXedN89Yf"
      },
      "source": [
        "The index also stores the raw document vector, which we can obtain as a Python dictionary of analyzed terms to counts (i.e., term frequency).\n",
        "For brevity, we only look at terms that appear more than once:"
      ]
    },
    {
      "cell_type": "code",
      "metadata": {
        "id": "mMtneeJw8HDI",
        "colab": {
          "base_uri": "https://localhost:8080/"
        },
        "outputId": "3c87fa02-ff1c-4b4b-ecd1-da9fc813f400"
      },
      "source": [
        "doc_vector = reader.get_document_vector('LA092790-0015')\n",
        "{ k: v for (k, v) in doc_vector.items() if v >1 }"
      ],
      "execution_count": null,
      "outputs": [
        {
          "output_type": "execute_result",
          "data": {
            "text/plain": [
              "{'advis': 2,\n",
              " 'anim': 9,\n",
              " 'area': 4,\n",
              " 'attack': 3,\n",
              " 'author': 3,\n",
              " 'bear': 4,\n",
              " 'been': 11,\n",
              " 'black': 2,\n",
              " 'bobcat': 4,\n",
              " 'california': 2,\n",
              " 'cat': 3,\n",
              " 'counti': 4,\n",
              " 'coyot': 10,\n",
              " 'debusscher': 3,\n",
              " 'deer': 3,\n",
              " 'depart': 2,\n",
              " 'drought': 4,\n",
              " 'dry': 2,\n",
              " 'elsewher': 2,\n",
              " 'especi': 2,\n",
              " 'famili': 2,\n",
              " 'few': 2,\n",
              " 'food': 3,\n",
              " 'forest': 2,\n",
              " 'game': 2,\n",
              " 'ha': 3,\n",
              " 'habitat': 2,\n",
              " 'have': 16,\n",
              " 'he': 2,\n",
              " 'hi': 2,\n",
              " 'hous': 3,\n",
              " 'hungri': 3,\n",
              " 'i': 2,\n",
              " 'jenk': 4,\n",
              " 'just': 3,\n",
              " 'leav': 2,\n",
              " 'lion': 3,\n",
              " 'live': 2,\n",
              " 'lot': 2,\n",
              " 'month': 4,\n",
              " 'more': 3,\n",
              " 'mountain': 3,\n",
              " 'natur': 2,\n",
              " 'near': 3,\n",
              " 'off': 2,\n",
              " 'offici': 5,\n",
              " 'ojai': 3,\n",
              " 'on': 2,\n",
              " 'out': 4,\n",
              " 'parch': 2,\n",
              " 'park': 2,\n",
              " 'past': 2,\n",
              " 'peopl': 2,\n",
              " 'rees': 3,\n",
              " 'report': 4,\n",
              " 'resid': 2,\n",
              " 'rural': 3,\n",
              " 'sai': 2,\n",
              " 'said': 19,\n",
              " 'seen': 3,\n",
              " 'septemb': 2,\n",
              " 'sever': 3,\n",
              " 'she': 3,\n",
              " \"they'r\": 5,\n",
              " 'two': 3,\n",
              " 'vallei': 4,\n",
              " 'ventura': 4,\n",
              " 'we': 2,\n",
              " 'who': 2,\n",
              " 'wild': 3,\n",
              " 'wildlif': 2,\n",
              " 'would': 2,\n",
              " 'yard': 2,\n",
              " 'year': 3}"
            ]
          },
          "metadata": {},
          "execution_count": 80
        }
      ]
    },
    {
      "cell_type": "markdown",
      "source": [
        "## Evaluating Ranked Results\n",
        "\n",
        "We can load some standard evaluation sets such as Robust04, which contains 250 queries, or \"topics\" as the TREC conferences call them."
      ],
      "metadata": {
        "id": "GOFVMQKLyW1S"
      }
    },
    {
      "cell_type": "code",
      "source": [
        "from pyserini.search import get_topics\n",
        "topics = get_topics('robust04')\n",
        "print(f'{len(topics)} queries total')"
      ],
      "metadata": {
        "colab": {
          "base_uri": "https://localhost:8080/"
        },
        "id": "Q1sdhbDTdwqf",
        "outputId": "12bc858a-bec4-4131-e2c1-083cded92f20"
      },
      "execution_count": null,
      "outputs": [
        {
          "output_type": "stream",
          "name": "stdout",
          "text": [
            "250 queries total\n"
          ]
        }
      ]
    },
    {
      "cell_type": "markdown",
      "source": [
        "The topics are in a dictionary, whose keys are integers uniquely identifying each query. Each topic contains the following fields:\n",
        "\n",
        "* `title`: TREC's term for the brief query a user might actually type;\n",
        "* `description`: a longer form of the query in the form of a complete sentence; and\n",
        "* `narrative`: a description of what the user is looking for and what kinds of results would be relevant or non-relevant."
      ],
      "metadata": {
        "id": "RbODj6sezBvB"
      }
    },
    {
      "cell_type": "code",
      "source": [
        "topics[301]"
      ],
      "metadata": {
        "colab": {
          "base_uri": "https://localhost:8080/"
        },
        "id": "KBOeSkJxy-8R",
        "outputId": "fb983963-5333-465c-ea96-d6cb222b907d"
      },
      "execution_count": null,
      "outputs": [
        {
          "output_type": "execute_result",
          "data": {
            "text/plain": [
              "{'description': 'Identify organizations that participate in international criminal activity, the activity, and, if possible, collaborating organizations and the countries involved.',\n",
              " 'narrative': 'A relevant document must as a minimum identify the organization and the type of illegal activity (e.g., Columbian cartel exporting cocaine). Vague references to international drug trade without identification of the organization(s) involved would not be relevant.',\n",
              " 'title': 'International Organized Crime'}"
            ]
          },
          "metadata": {},
          "execution_count": 81
        }
      ]
    },
    {
      "cell_type": "markdown",
      "source": [
        "For the purpose of your experiments, we'll divide them into a development and test set."
      ],
      "metadata": {
        "id": "gMbgbZVqyzdj"
      }
    },
    {
      "cell_type": "code",
      "source": [
        "dev_topics = {k:topics[k] for k in list(topics.keys())[:125]}\n",
        "test_topics = {k:topics[k] for k in list(topics.keys())[125:]}"
      ],
      "metadata": {
        "id": "LILkqQDqd3Tj"
      },
      "execution_count": null,
      "outputs": []
    },
    {
      "cell_type": "markdown",
      "source": [
        "Now, we'll fetch the relevance judgments for the Robust04 queries, which TREC calls \"qrels\"."
      ],
      "metadata": {
        "id": "HTY9-DMyzuU5"
      }
    },
    {
      "cell_type": "code",
      "source": [
        "from urllib.request import urlopen\n",
        "\n",
        "qfile = 'https://github.com/castorini/anserini-tools/blob/63ceeab1dd94c1221f29b931d868e8fab67cc25c/topics-and-qrels/qrels.robust04.txt?raw=true'\n",
        "qrels = []\n",
        "for line in urlopen(qfile):\n",
        "  qid, round, docid, score = line.strip().split()\n",
        "  qrels.append([int(qid), 0, docid.decode('UTF-8'), int(score)])\n",
        "#qrels = [line.strip().split() for line in urlopen(qfile)]"
      ],
      "metadata": {
        "id": "b53vacvvf6fw"
      },
      "execution_count": null,
      "outputs": []
    },
    {
      "cell_type": "markdown",
      "source": [
        "Each record in the qrel contains four fields:\n",
        "\n",
        "1. the numeric identifier of the query;\n",
        "2. the round of relevance feedback, which is here always 0;\n",
        "3. the identifier of a documennt that has been judged; and\n",
        "4. the relevance score of that document.\n",
        "\n",
        "In Robust04, all relevance judgments are binary, i.e., 1 or 0. Note that not all non-relevant documents are recorded. The qrel file only contains those documents the annotators actually looked at; the vast majority of documents in the collection have not been judged. In IR evaluation, we assume that unannotated documents are non-relevant."
      ],
      "metadata": {
        "id": "BXg8YO590Aky"
      }
    },
    {
      "cell_type": "code",
      "source": [
        "qrels[0:10]"
      ],
      "metadata": {
        "colab": {
          "base_uri": "https://localhost:8080/"
        },
        "id": "ZJblOI_pgZBh",
        "outputId": "257d89c5-2ab4-43d9-859d-dba22e384ef4"
      },
      "execution_count": null,
      "outputs": [
        {
          "output_type": "execute_result",
          "data": {
            "text/plain": [
              "[[301, 0, 'FBIS3-10082', 1],\n",
              " [301, 0, 'FBIS3-10169', 0],\n",
              " [301, 0, 'FBIS3-10243', 1],\n",
              " [301, 0, 'FBIS3-10319', 0],\n",
              " [301, 0, 'FBIS3-10397', 1],\n",
              " [301, 0, 'FBIS3-10491', 1],\n",
              " [301, 0, 'FBIS3-10555', 0],\n",
              " [301, 0, 'FBIS3-10622', 1],\n",
              " [301, 0, 'FBIS3-10634', 0],\n",
              " [301, 0, 'FBIS3-10635', 0]]"
            ]
          },
          "metadata": {},
          "execution_count": 93
        }
      ]
    },
    {
      "cell_type": "markdown",
      "source": [
        "## Computing Mean Average Precision\n",
        "\n",
        "The Robust04 collection uses binary relevance judgments and usually has multiple relevant results for each query. It is thus common to use **mean average precision** (MAP) to evaluate retrieval performance on it. Remember from class that MAP adds the precision at the position of each _relevant_ document in a ranked list and then divides by the total number of relevant documents. So that we don't have to scan through the entire collection, we usually evaluate MAP at some maximum rank value, such as 100 or 1000. We simply stop scanning at that maximum rank.\n",
        "\n",
        "As we saw above, you should pass a query string (the `title` of a topic) and the desired number of results to the `search` method of the `searcher` object."
      ],
      "metadata": {
        "id": "LoDPnv1b04lP"
      }
    },
    {
      "cell_type": "code",
      "source": [
        "hits = searcher.search(dev_topics[355]['title'], 1000)\n",
        "[(hit.docid, hit.score) for hit in hits[0:10]]"
      ],
      "metadata": {
        "colab": {
          "base_uri": "https://localhost:8080/"
        },
        "id": "pvcF6KPN8jew",
        "outputId": "138dc65e-ab6c-4cc9-b0c5-7cbf4f60d9ca"
      },
      "execution_count": null,
      "outputs": [
        {
          "output_type": "execute_result",
          "data": {
            "text/plain": [
              "[('FBIS4-20436', 11.349300384521484),\n",
              " ('FBIS3-23683', 9.126500129699707),\n",
              " ('FBIS3-21238', 8.309300422668457),\n",
              " ('FBIS4-44915', 7.935699939727783),\n",
              " ('FBIS4-20602', 7.6006999015808105),\n",
              " ('FBIS4-47382', 7.529600143432617),\n",
              " ('FT943-1589', 7.480100154876709),\n",
              " ('LA071789-0059', 7.451399803161621),\n",
              " ('FBIS4-22145', 7.215099811553955),\n",
              " ('FBIS4-44667', 7.106500148773193)]"
            ]
          },
          "metadata": {},
          "execution_count": 120
        }
      ]
    },
    {
      "cell_type": "markdown",
      "source": [
        "For this assignment, evaluate MAP@1000 for the list of `test_topics` we created above. You should process the `qrels` data to find the relevant results for each query."
      ],
      "metadata": {
        "id": "407VkQsK8h6T"
      }
    },
    {
      "cell_type": "code",
      "source": [
        "## TODO [35 points]: Compute MAP@1000 for test_topics"
      ],
      "metadata": {
        "id": "aGQK-C935EVA"
      },
      "execution_count": null,
      "outputs": []
    },
    {
      "cell_type": "markdown",
      "source": [
        "## Implementing a Query Likelihood Model\n",
        "\n",
        "The default `SimpleSearcher` in pyserini uses a BM25 model. In this part of the assignment, you'll interact directly with the index to implement a query likelihood retrieval model.  For more details on pyserini's index API, [see the documentation](https://github.com/castorini/pyserini/blob/master/docs/usage-indexreader.md).\n",
        "\n",
        "We've already created an `IndexReader` for the Robust04 collection and assigned it to `reader`. Remember that we can pass documents or queries through the index's predefined analysis pipeline, a series of operations like stemming, stopword removal, etc."
      ],
      "metadata": {
        "id": "MpdecWki1sxo"
      }
    },
    {
      "cell_type": "code",
      "source": [
        "reader.analyze('Are there black bear attacks there?')"
      ],
      "metadata": {
        "colab": {
          "base_uri": "https://localhost:8080/"
        },
        "id": "HaDprYgo-yRz",
        "outputId": "3e2ccd58-fb80-4f83-b8c5-1d9a34534473"
      },
      "execution_count": 17,
      "outputs": [
        {
          "output_type": "execute_result",
          "data": {
            "text/plain": [
              "['black', 'bear', 'attack']"
            ]
          },
          "metadata": {},
          "execution_count": 17
        }
      ]
    },
    {
      "cell_type": "markdown",
      "source": [
        "For most retrieval models, including BM25 and query likelihood, we'll want to know the overall statistics for the terms we retrieve from the index. By default, pyserini will do stemming and other \"analysis\" steps on the terms you give it. But since we're already working with stemmed queries, we'll tell it not to perform this analysis now."
      ],
      "metadata": {
        "id": "hs11fpZY-4H8"
      }
    },
    {
      "cell_type": "code",
      "source": [
        "# Just checking that our term is already in its index form.\n",
        "print(reader.analyze('bear'))\n",
        "\n",
        "df, cf = reader.get_term_counts('bear', analyzer=None)\n",
        "print(f'The document frequency is {df} and the collection frequency is {cf}.')"
      ],
      "metadata": {
        "colab": {
          "base_uri": "https://localhost:8080/"
        },
        "id": "ZNHf3z1Y_gy2",
        "outputId": "2fc5975d-d61b-4ab4-f1d0-4aacbaa8a468"
      },
      "execution_count": 12,
      "outputs": [
        {
          "output_type": "stream",
          "name": "stdout",
          "text": [
            "['bear']\n",
            "The document frequency is 16429 and the collection frequency is 23545.\n"
          ]
        }
      ]
    },
    {
      "cell_type": "markdown",
      "source": [
        "You might also want to know summary statistics about the collection."
      ],
      "metadata": {
        "id": "FLGz4mncCuyd"
      }
    },
    {
      "cell_type": "code",
      "source": [
        "reader.stats()"
      ],
      "metadata": {
        "colab": {
          "base_uri": "https://localhost:8080/"
        },
        "id": "7L0l9hO4Cx5V",
        "outputId": "45c83ffe-6209-4522-decd-700e4c41592a"
      },
      "execution_count": 25,
      "outputs": [
        {
          "output_type": "execute_result",
          "data": {
            "text/plain": [
              "{'total_terms': 174540872,\n",
              " 'documents': 528030,\n",
              " 'non_empty_documents': 528030,\n",
              " 'unique_terms': 923436}"
            ]
          },
          "metadata": {},
          "execution_count": 25
        }
      ]
    },
    {
      "cell_type": "markdown",
      "source": [
        "Now let's traverse the postings for a term."
      ],
      "metadata": {
        "id": "o7878QVlAPWA"
      }
    },
    {
      "cell_type": "code",
      "source": [
        "posting_list = reader.get_postings_list('bear', analyzer=None)\n",
        "print(f'There are {len(posting_list)} postings.')\n",
        "\n",
        "posting = posting_list[100]\n",
        "print(f'Each posting contains a document ID ({posting.docid}), term frequency ({posting.tf}), and position list ({posting.positions}).')\n",
        "\n",
        "print(f'searcher has a method for turning internal integer IDs like {posting.docid} into external IDs like {searcher.doc(posting.docid).docid()}.')"
      ],
      "metadata": {
        "colab": {
          "base_uri": "https://localhost:8080/"
        },
        "id": "rWdztSSQAaVs",
        "outputId": "33ad37c8-a8d2-4363-ec72-12f7965a4e08"
      },
      "execution_count": 32,
      "outputs": [
        {
          "output_type": "stream",
          "name": "stdout",
          "text": [
            "There are 16429 postings.\n",
            "Each posting contains a document ID (3330), term frequency (2), and position list ([35, 70]).\n",
            "searcher has a method for turning internal integer IDs like 3330 into external IDs like LA101389-0041.\n"
          ]
        }
      ]
    },
    {
      "cell_type": "markdown",
      "source": [
        "If, instead of mapping terms to documents, you want to use a document name to get term information, see above for the `get_document_vector` method.\n",
        "\n",
        "Now you should have all the information you need to implement a query likelihood retrieval model. Use Dirichlet smoothing with $\\mu = 550$."
      ],
      "metadata": {
        "id": "F9KdZ6LLMiBS"
      }
    },
    {
      "cell_type": "code",
      "source": [
        "## TODO [50 points]: Implement a query likelihood model with Dirichlet smoothing.\n",
        "## For a given query, index reader, and constant k, return the k documents with the highest query likelihoods.\n",
        "## Think about what data s would let you keep the top k."
      ],
      "metadata": {
        "id": "PKAzgxzwNQ8v"
      },
      "execution_count": null,
      "outputs": []
    },
    {
      "cell_type": "markdown",
      "source": [
        "Now you can reuse some of your evaluation code for mean average precision from above."
      ],
      "metadata": {
        "id": "xKVt8NkKQlqV"
      }
    },
    {
      "cell_type": "code",
      "source": [
        "## TODO [15 points]: Compute the MAP@1000 for the test set you used above to evaluate BM25."
      ],
      "metadata": {
        "id": "67coeQ03NcN6"
      },
      "execution_count": null,
      "outputs": []
    }
  ]
}